{
 "cells": [
  {
   "cell_type": "code",
   "execution_count": 19,
   "metadata": {},
   "outputs": [],
   "source": [
    "import pymongo\n",
    "import schedule\n",
    "import time\n",
    "from datetime import datetime\n",
    "\n",
    "# Establish connection to MongoDB\n",
    "client = pymongo.MongoClient(\"mongodb://localhost:27017/\")\n",
    "\n",
    "# Access the database\n",
    "db = client['yelp']\n",
    "\n",
    "# Access the collections\n",
    "review_collection = db['review']\n",
    "business_collection = db['business']"
   ]
  },
  {
   "cell_type": "code",
   "execution_count": 27,
   "metadata": {},
   "outputs": [
    {
     "name": "stdout",
     "output_type": "stream",
     "text": [
      "Checking for new low-rated reviews...\n",
      "Checked on 2023-12-04 11:22:34. Threshold not exceeded. 0.00% of the last 4 reviews for 'Turning Point of North Wales' have low ratings.\n",
      "Checking for new low-rated reviews...\n",
      "Checked on 2023-12-04 11:22:34. Threshold not exceeded. 0.00% of the last 4 reviews for 'Turning Point of North Wales' have low ratings.\n",
      "Checking for new low-rated reviews...\n",
      "Checked on 2023-12-04 11:22:34. Threshold not exceeded. 0.00% of the last 4 reviews for 'Turning Point of North Wales' have low ratings.\n",
      "Checking for new low-rated reviews...\n",
      "Checked on 2023-12-04 11:22:34. Threshold not exceeded. 0.00% of the last 4 reviews for 'Turning Point of North Wales' have low ratings.\n",
      "Checking for new low-rated reviews...\n",
      "Checked on 2023-12-04 11:22:34. Threshold not exceeded. 0.00% of the last 4 reviews for 'Turning Point of North Wales' have low ratings.\n",
      "Checking for new low-rated reviews...\n",
      "Checked on 2023-12-04 11:22:35. Threshold not exceeded. 0.00% of the last 4 reviews for 'Turning Point of North Wales' have low ratings.\n",
      "Checking for new low-rated reviews...\n",
      "Checked on 2023-12-04 11:22:35. Threshold not exceeded. 0.00% of the last 4 reviews for 'Turning Point of North Wales' have low ratings.\n",
      "Checking for new low-rated reviews...\n",
      "Checked on 2023-12-04 11:22:35. Threshold not exceeded. 0.00% of the last 4 reviews for 'Turning Point of North Wales' have low ratings.\n",
      "Checking for new low-rated reviews...\n",
      "Checked on 2023-12-04 11:22:35. Threshold not exceeded. 0.00% of the last 4 reviews for 'Turning Point of North Wales' have low ratings.\n",
      "Checking for new low-rated reviews...\n",
      "Checked on 2023-12-04 11:22:35. Threshold not exceeded. 0.00% of the last 4 reviews for 'Turning Point of North Wales' have low ratings.\n",
      "Checking for new low-rated reviews...\n",
      "Checked on 2023-12-04 11:22:36. Threshold not exceeded. 0.00% of the last 4 reviews for 'Turning Point of North Wales' have low ratings.\n",
      "Checking for new low-rated reviews...\n",
      "Checked on 2023-12-04 11:22:36. Threshold not exceeded. 0.00% of the last 4 reviews for 'Turning Point of North Wales' have low ratings.\n",
      "Checking for new low-rated reviews...\n",
      "Checked on 2023-12-04 11:22:36. Threshold not exceeded. 0.00% of the last 4 reviews for 'Turning Point of North Wales' have low ratings.\n",
      "Checking for new low-rated reviews...\n",
      "Checked on 2023-12-04 11:22:36. Threshold not exceeded. 0.00% of the last 4 reviews for 'Turning Point of North Wales' have low ratings.\n",
      "Checking for new low-rated reviews...\n",
      "Checked on 2023-12-04 11:22:36. Threshold not exceeded. 0.00% of the last 4 reviews for 'Turning Point of North Wales' have low ratings.\n",
      "Checking for new low-rated reviews...\n",
      "Checked on 2023-12-04 11:22:37. Threshold not exceeded. 0.00% of the last 4 reviews for 'Turning Point of North Wales' have low ratings.\n",
      "Checking for new low-rated reviews...\n",
      "Checked on 2023-12-04 11:22:37. Threshold not exceeded. 0.00% of the last 4 reviews for 'Turning Point of North Wales' have low ratings.\n",
      "Checking for new low-rated reviews...\n",
      "Checked on 2023-12-04 11:22:37. Threshold not exceeded. 0.00% of the last 4 reviews for 'Turning Point of North Wales' have low ratings.\n",
      "Checking for new low-rated reviews...\n",
      "Checked on 2023-12-04 11:22:37. Threshold not exceeded. 0.00% of the last 4 reviews for 'Turning Point of North Wales' have low ratings.\n",
      "Checking for new low-rated reviews...\n",
      "Checked on 2023-12-04 11:22:37. Threshold not exceeded. 0.00% of the last 4 reviews for 'Turning Point of North Wales' have low ratings.\n",
      "Checking for new low-rated reviews...\n",
      "Checked on 2023-12-04 11:22:38. Threshold not exceeded. 0.00% of the last 4 reviews for 'Turning Point of North Wales' have low ratings.\n",
      "Checking for new low-rated reviews...\n",
      "Checked on 2023-12-04 11:22:38. Threshold not exceeded. 0.00% of the last 4 reviews for 'Turning Point of North Wales' have low ratings.\n",
      "Checking for new low-rated reviews...\n",
      "Checked on 2023-12-04 11:22:38. Threshold not exceeded. 0.00% of the last 4 reviews for 'Turning Point of North Wales' have low ratings.\n",
      "Checking for new low-rated reviews...\n",
      "Checked on 2023-12-04 11:22:38. Threshold not exceeded. 0.00% of the last 4 reviews for 'Turning Point of North Wales' have low ratings.\n",
      "Checking for new low-rated reviews...\n",
      "Checked on 2023-12-04 11:22:38. Threshold not exceeded. 0.00% of the last 4 reviews for 'Turning Point of North Wales' have low ratings.\n"
     ]
    },
    {
     "ename": "KeyboardInterrupt",
     "evalue": "",
     "output_type": "error",
     "traceback": [
      "\u001b[1;31m---------------------------------------------------------------------------\u001b[0m",
      "\u001b[1;31mKeyboardInterrupt\u001b[0m                         Traceback (most recent call last)",
      "\u001b[1;32mc:\\Users\\vae.tiolamon\\Documents\\DHBW 3. Semester\\Datenbanken\\DBneu\\notification.ipynb Cell 2\u001b[0m line \u001b[0;36m4\n\u001b[0;32m     <a href='vscode-notebook-cell:/c%3A/Users/vae.tiolamon/Documents/DHBW%203.%20Semester/Datenbanken/DBneu/notification.ipynb#W0sZmlsZQ%3D%3D?line=41'>42</a>\u001b[0m \u001b[39mwhile\u001b[39;00m \u001b[39mTrue\u001b[39;00m:\n\u001b[0;32m     <a href='vscode-notebook-cell:/c%3A/Users/vae.tiolamon/Documents/DHBW%203.%20Semester/Datenbanken/DBneu/notification.ipynb#W0sZmlsZQ%3D%3D?line=42'>43</a>\u001b[0m     schedule\u001b[39m.\u001b[39mrun_pending()\n\u001b[1;32m---> <a href='vscode-notebook-cell:/c%3A/Users/vae.tiolamon/Documents/DHBW%203.%20Semester/Datenbanken/DBneu/notification.ipynb#W0sZmlsZQ%3D%3D?line=43'>44</a>\u001b[0m     time\u001b[39m.\u001b[39;49msleep(\u001b[39m1\u001b[39;49m)\n",
      "\u001b[1;31mKeyboardInterrupt\u001b[0m: "
     ]
    }
   ],
   "source": [
    "def notify_low_rating_reviews(business_name):\n",
    "    threshold_percentage = 50\n",
    "    last_n_reviews = 4\n",
    "\n",
    "    current_date = datetime.now().strftime(\"%Y-%m-%d %H:%M:%S\")\n",
    "\n",
    "    # Get the business_id based on the business_name\n",
    "    business = business_collection.find_one({\"name\": business_name})\n",
    "    if not business:\n",
    "        return f\"Business '{business_name}' not found\"\n",
    "\n",
    "    business_id = business['business_id']\n",
    "\n",
    "\n",
    "    # Calculate the percentage of reviews with stars 1 or 2\n",
    "    low_rating_count = sum(1 for review in recent_reviews if review['stars'] in [1, 2])\n",
    "    total_reviews = len(recent_reviews)\n",
    "\n",
    "    percentage = (low_rating_count / total_reviews) * 100 if total_reviews > 0 else 0\n",
    "\n",
    "    # Notify if the threshold percentage is exceeded\n",
    "    if percentage >= threshold_percentage:\n",
    "        return f\"Checked on {current_date}. Threshold exceeded: {percentage:.2f}% of the last {last_n_reviews} reviews for '{business_name}' have low ratings.\"\n",
    "\n",
    "    return f\"Checked on {current_date}. Threshold not exceeded. {percentage:.2f}% of the last {last_n_reviews} reviews for '{business_name}' have low ratings.\"\n",
    "\n",
    "def job():\n",
    "    print(\"Checking for new low-rated reviews...\")\n",
    "    # Example: Replace this line with a mechanism to get business names dynamically\n",
    "    business_name = \"Turning Point of North Wales\"\n",
    "    result = notify_low_rating_reviews(business_name)\n",
    "    if result:\n",
    "        print(result)\n",
    "\n",
    "# Schedule the job to run every second (adjust as needed)\n",
    "schedule.every(1).second.do(job)\n",
    "\n",
    "# Run the job initially\n",
    "job()\n",
    "\n",
    "# Keep the script running\n",
    "while True:\n",
    "    schedule.run_pending()\n",
    "    time.sleep(1)"
   ]
  },
  {
   "cell_type": "code",
   "execution_count": 26,
   "metadata": {},
   "outputs": [
    {
     "name": "stdout",
     "output_type": "stream",
     "text": [
      "Review: 2157e68f-c34a-40ad-bacd-13d4d65f74b7 - Stars: 2 - Date: 2023-12-04 11:09:23\n",
      "Review: da396594-66dd-4c76-a3b6-5590d2bb3f84 - Stars: 2 - Date: 2023-12-04 11:09:16\n",
      "Review: 561ba904-f726-4a2f-a75a-9c4652c81b54 - Stars: 1 - Date: 2023-12-04 11:09:10\n",
      "Review: 5906786a-0185-41c2-9830-c6dd7ce6fb61 - Stars: 1 - Date: 2023-12-04 11:08:55\n"
     ]
    }
   ],
   "source": [
    "business_name = \"Turning Point of North Wales\"\n",
    "last_n_reviews = 4\n",
    "\n",
    "business = business_collection.find_one({\"name\": business_name})\n",
    "\n",
    "business_id = business['business_id']\n",
    "\n",
    "# Find the last 'n' reviews for the given business_id based on the \"date\" field\n",
    "recent_reviews = list(review_collection.find(\n",
    "    {\"business_id\": business_id}\n",
    ").sort([(\"date\", -1)]).limit(last_n_reviews))\n",
    "\n",
    "# Inside notify_low_rating_reviews function, after retrieving recent_reviews\n",
    "for review in recent_reviews:\n",
    "    print(f\"Review: {review['_id']} - Stars: {review['stars']} - Date: {review['date']}\")\n"
   ]
  }
 ],
 "metadata": {
  "kernelspec": {
   "display_name": "Python 3",
   "language": "python",
   "name": "python3"
  },
  "language_info": {
   "codemirror_mode": {
    "name": "ipython",
    "version": 3
   },
   "file_extension": ".py",
   "mimetype": "text/x-python",
   "name": "python",
   "nbconvert_exporter": "python",
   "pygments_lexer": "ipython3",
   "version": "3.12.0"
  }
 },
 "nbformat": 4,
 "nbformat_minor": 2
}
