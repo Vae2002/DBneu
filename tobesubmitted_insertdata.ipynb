{
 "cells": [
  {
   "cell_type": "markdown",
   "metadata": {},
   "source": [
    "# IMPORT LIBRARIES AND DATABASE AND COLLECTIONS"
   ]
  },
  {
   "cell_type": "code",
   "execution_count": 1,
   "metadata": {},
   "outputs": [],
   "source": [
    "import pymongo\n",
    "from datetime import datetime\n",
    "import uuid\n",
    "\n",
    "# Establish connection to MongoDB\n",
    "client = pymongo.MongoClient(\"mongodb://localhost:27017/\")\n",
    "\n",
    "# Access the database\n",
    "db = client['yelp']  \n",
    "\n",
    "# Access the collections\n",
    "review_collection = db['review']\n",
    "user_collection = db['user']\n",
    "business_collection = db['business']\n",
    "admin_collection = db['admin']"
   ]
  },
  {
   "cell_type": "markdown",
   "metadata": {},
   "source": [
    "# AUFGABE 1\n",
    "### Möglichkeit 1\n",
    "\n",
    "Search for reviews of a business"
   ]
  },
  {
   "cell_type": "code",
   "execution_count": 2,
   "metadata": {},
   "outputs": [
    {
     "name": "stdout",
     "output_type": "stream",
     "text": [
      "{'_id': ObjectId('656b238d8895f3b51c4d3e57'), 'review_id': '9vwYDBVI3ymdqcyJ5WW2Tg', 'user_id': 'e0imecnX_9MtLnS2rUZM-A', 'business_id': 'Pns2l4eNsfO8kk83dixA6A', 'stars': 5, 'useful': 3, 'funny': 2, 'cool': 1, 'text': \"I've had acupuncture treatments with Abby over the past few years and I really can't say enough about how great my experiences have been.\\n\\nShe has successfully treated me for everything from stress to colds to menstrual cramps.  I was amazed that her medical qi gong treatments helped alleviate my chronic back pain.  I didn't think anything could help with that!  \\n\\nShe is always very clear and upfront about treatments and expectations.   And I love that she always has great advice on herbs, supplements and natural remedies.\\n\\nShe just relocated to Los Gatos and I'm definitely going to miss having her in San Francisco!\", 'date': '2012-05-02 18:07:38'}\n",
      "{'_id': ObjectId('656b23928895f3b51c4e06d9'), 'review_id': 'OXgg1LdxHDv3CBU5-xi2lA', 'user_id': '_Q0fdLVoTnlNkEypUvNkHA', 'business_id': 'Pns2l4eNsfO8kk83dixA6A', 'stars': 5, 'useful': 1, 'funny': 0, 'cool': 0, 'text': \"Abby is an amazing practitioner. In a treatment she is really present with me and my concerns. She is caring and thorough. I especially appreciate the exercise, herbs and advice she sends me home with so that my healing can continue outside her office. Abby has helped me with stress related problems and chronic low back pain. Sadly, she moved out of my area but whenever I'm her neck of the woods I take the opportunity to see her.\", 'date': '2013-03-01 06:11:05'}\n",
      "{'_id': ObjectId('656b239a8895f3b51c4f3121'), 'review_id': 'DG64cjud9cWB4fANskVxSw', 'user_id': 'ycUooVIDWPgXPf6niW-FWQ', 'business_id': 'Pns2l4eNsfO8kk83dixA6A', 'stars': 4, 'useful': 2, 'funny': 0, 'cool': 0, 'text': 'I went to see Abby for some digestive issues. I was surprised that after she put the needles in she did energy work on my stomach and I could feel it begin to change. She sent me home a liquid herb to put in water and take several times a day. Wow, by the next day my digestion was back to normal.  \\nA few weeks later I caught a cold, went to see if Abby could help. This time it took 2 treatments to get me back, but I was over the cold in just 3 days! \\nI highly recommend her for her knowledge of the special herbs and ability to identify just the right treatment to get you back.\\nOther accupuncturists I have gone to want you to back over and over, Abby gets you well and sends you on your way.', 'date': '2013-01-17 00:05:43'}\n",
      "{'_id': ObjectId('656b239c8895f3b51c4f684d'), 'review_id': 'hzvRRb40oPttxAdyr7kfow', 'user_id': 'CiwVvb7jWijWB5jkmatzKA', 'business_id': 'Pns2l4eNsfO8kk83dixA6A', 'stars': 5, 'useful': 0, 'funny': 1, 'cool': 0, 'text': \"Abby helped me with some longstanding issues, including chronic back and shoulder pain, insomnia, and stress. She's amazing with herbs. Her needling technique is excellent and she's the only acupuncturist I've seen who also does qi gong. Her treatments are so relaxing that I almost always fall asleep on the table. Abby has a great table-side manner--she's patient, extremely knowledgeable, very clear in her explanations, caring, and always very positive. Abby is a true healer.\", 'date': '2015-03-16 03:43:08'}\n",
      "{'_id': ObjectId('656b23a38895f3b51c5079cd'), 'review_id': 'xUkBPk-QfcW4i3MRU5TeXw', 'user_id': 'QkCbMKBktkrkOFJugHvY6w', 'business_id': 'Pns2l4eNsfO8kk83dixA6A', 'stars': 5, 'useful': 0, 'funny': 0, 'cool': 0, 'text': 'Recently, I referred a patient of mine with multiple health concerns to Abby. She was very helpful in increasing his overall energy level. He particularly enjoyed her use of movement in the sessions. I will happily refer many more patients to Abby.', 'date': '2013-03-05 18:45:07'}\n",
      "{'_id': ObjectId('656b23c08895f3b51c53bf87'), 'review_id': '7zGoOrFQT5WylJYax1pYnA', 'user_id': 'ZCACyKwpELPtwV4Hue5pcg', 'business_id': 'Pns2l4eNsfO8kk83dixA6A', 'stars': 5, 'useful': 1, 'funny': 0, 'cool': 0, 'text': 'Abby Rappoport helped me achieve a long lost sense of health. I was suffering from debilitating insomnia due to a very stressful job and family requirements. She also was able to get me through a bad bout of bronchitis. \\nShe is professional, thorough and clearly seasoned as a healthcare provider.\\nI highly recommend Abby if your situation needs caring attention.', 'date': '2012-08-09 20:43:27'}\n",
      "{'_id': ObjectId('656b23c68895f3b51c5482d4'), 'review_id': '2DhY5MYiQ8oy-ZqZthYiOg', 'user_id': 'q-RkAwuq6h6unalI2CWF0Q', 'business_id': 'Pns2l4eNsfO8kk83dixA6A', 'stars': 5, 'useful': 2, 'funny': 0, 'cool': 0, 'text': \"Abby is an absolutely amazing acupuncturist.. She understands the body on all levels; physical, mental, spiritual, and emotional.  Ive never felt like someone understood me  so well on all aspects of my being.\\nHer background in movement arts shines through in her effective helpful hints on stretches and exercises for musculoskeletal problems. Without even needing to say everything that is wrong, Abby's sharp diagnostic skills gets to the root of your issues, and I walked away every time feeling lighter, more balanced, focused and rejuvenated.  \\nIn addition to acupuncture, her herbal medicine skills are far superior than any I have experienced before. I loved using her herbal prescriptions throughout the week, while looking forward to the next acupuncture treatment, and felt like they were highly effective for things from anxiety/tension to headaches and insomnia.\\nIts too bad for me she decided to move south to Los Gatos, but I will definitely stop by any chance I get. Los Gatos is lucky to have her!\", 'date': '2012-05-04 03:47:09'}\n"
     ]
    }
   ],
   "source": [
    "def authenticate_user(admin_username, admin_password):\n",
    "    existing_admin = admin_collection.find_one({\"admin_username\": admin_username})\n",
    "\n",
    "    if existing_admin is None:\n",
    "        return None, \"Wrong username. Please enter the right username and password.\"\n",
    "\n",
    "    # Check if the password matches\n",
    "    if existing_admin['admin_password'] != admin_password:\n",
    "        return None, \"Wrong password. Please enter the right username and password.\"\n",
    "\n",
    "    business_id = existing_admin['business_id']\n",
    "\n",
    "    # Retrieve reviews for the specified business_id\n",
    "    reviews = review_collection.find({\"business_id\": business_id})\n",
    "    return list(reviews)\n",
    "\n",
    "# Beispielaufruf:\n",
    "admin_username = input(\"Admin Username: \")\n",
    "admin_password = input(\"Admin Password: \")\n",
    "\n",
    "results = authenticate_user(admin_username, admin_password)\n",
    "for result in results:\n",
    "    print(result)"
   ]
  },
  {
   "cell_type": "markdown",
   "metadata": {},
   "source": [
    "### Möglichkeit 2\n",
    "\n",
    "filter timerange and stars"
   ]
  },
  {
   "cell_type": "code",
   "execution_count": 3,
   "metadata": {},
   "outputs": [
    {
     "name": "stdout",
     "output_type": "stream",
     "text": [
      "{'_id': ObjectId('656b238d8895f3b51c4d3e57'), 'review_id': '9vwYDBVI3ymdqcyJ5WW2Tg', 'user_id': 'e0imecnX_9MtLnS2rUZM-A', 'business_id': 'Pns2l4eNsfO8kk83dixA6A', 'stars': 5, 'useful': 3, 'funny': 2, 'cool': 1, 'text': \"I've had acupuncture treatments with Abby over the past few years and I really can't say enough about how great my experiences have been.\\n\\nShe has successfully treated me for everything from stress to colds to menstrual cramps.  I was amazed that her medical qi gong treatments helped alleviate my chronic back pain.  I didn't think anything could help with that!  \\n\\nShe is always very clear and upfront about treatments and expectations.   And I love that she always has great advice on herbs, supplements and natural remedies.\\n\\nShe just relocated to Los Gatos and I'm definitely going to miss having her in San Francisco!\", 'date': '2012-05-02 18:07:38'}\n",
      "{'_id': ObjectId('656b23928895f3b51c4e06d9'), 'review_id': 'OXgg1LdxHDv3CBU5-xi2lA', 'user_id': '_Q0fdLVoTnlNkEypUvNkHA', 'business_id': 'Pns2l4eNsfO8kk83dixA6A', 'stars': 5, 'useful': 1, 'funny': 0, 'cool': 0, 'text': \"Abby is an amazing practitioner. In a treatment she is really present with me and my concerns. She is caring and thorough. I especially appreciate the exercise, herbs and advice she sends me home with so that my healing can continue outside her office. Abby has helped me with stress related problems and chronic low back pain. Sadly, she moved out of my area but whenever I'm her neck of the woods I take the opportunity to see her.\", 'date': '2013-03-01 06:11:05'}\n",
      "{'_id': ObjectId('656b239a8895f3b51c4f3121'), 'review_id': 'DG64cjud9cWB4fANskVxSw', 'user_id': 'ycUooVIDWPgXPf6niW-FWQ', 'business_id': 'Pns2l4eNsfO8kk83dixA6A', 'stars': 4, 'useful': 2, 'funny': 0, 'cool': 0, 'text': 'I went to see Abby for some digestive issues. I was surprised that after she put the needles in she did energy work on my stomach and I could feel it begin to change. She sent me home a liquid herb to put in water and take several times a day. Wow, by the next day my digestion was back to normal.  \\nA few weeks later I caught a cold, went to see if Abby could help. This time it took 2 treatments to get me back, but I was over the cold in just 3 days! \\nI highly recommend her for her knowledge of the special herbs and ability to identify just the right treatment to get you back.\\nOther accupuncturists I have gone to want you to back over and over, Abby gets you well and sends you on your way.', 'date': '2013-01-17 00:05:43'}\n",
      "{'_id': ObjectId('656b239c8895f3b51c4f684d'), 'review_id': 'hzvRRb40oPttxAdyr7kfow', 'user_id': 'CiwVvb7jWijWB5jkmatzKA', 'business_id': 'Pns2l4eNsfO8kk83dixA6A', 'stars': 5, 'useful': 0, 'funny': 1, 'cool': 0, 'text': \"Abby helped me with some longstanding issues, including chronic back and shoulder pain, insomnia, and stress. She's amazing with herbs. Her needling technique is excellent and she's the only acupuncturist I've seen who also does qi gong. Her treatments are so relaxing that I almost always fall asleep on the table. Abby has a great table-side manner--she's patient, extremely knowledgeable, very clear in her explanations, caring, and always very positive. Abby is a true healer.\", 'date': '2015-03-16 03:43:08'}\n",
      "{'_id': ObjectId('656b23a38895f3b51c5079cd'), 'review_id': 'xUkBPk-QfcW4i3MRU5TeXw', 'user_id': 'QkCbMKBktkrkOFJugHvY6w', 'business_id': 'Pns2l4eNsfO8kk83dixA6A', 'stars': 5, 'useful': 0, 'funny': 0, 'cool': 0, 'text': 'Recently, I referred a patient of mine with multiple health concerns to Abby. She was very helpful in increasing his overall energy level. He particularly enjoyed her use of movement in the sessions. I will happily refer many more patients to Abby.', 'date': '2013-03-05 18:45:07'}\n",
      "{'_id': ObjectId('656b23c08895f3b51c53bf87'), 'review_id': '7zGoOrFQT5WylJYax1pYnA', 'user_id': 'ZCACyKwpELPtwV4Hue5pcg', 'business_id': 'Pns2l4eNsfO8kk83dixA6A', 'stars': 5, 'useful': 1, 'funny': 0, 'cool': 0, 'text': 'Abby Rappoport helped me achieve a long lost sense of health. I was suffering from debilitating insomnia due to a very stressful job and family requirements. She also was able to get me through a bad bout of bronchitis. \\nShe is professional, thorough and clearly seasoned as a healthcare provider.\\nI highly recommend Abby if your situation needs caring attention.', 'date': '2012-08-09 20:43:27'}\n",
      "{'_id': ObjectId('656b23c68895f3b51c5482d4'), 'review_id': '2DhY5MYiQ8oy-ZqZthYiOg', 'user_id': 'q-RkAwuq6h6unalI2CWF0Q', 'business_id': 'Pns2l4eNsfO8kk83dixA6A', 'stars': 5, 'useful': 2, 'funny': 0, 'cool': 0, 'text': \"Abby is an absolutely amazing acupuncturist.. She understands the body on all levels; physical, mental, spiritual, and emotional.  Ive never felt like someone understood me  so well on all aspects of my being.\\nHer background in movement arts shines through in her effective helpful hints on stretches and exercises for musculoskeletal problems. Without even needing to say everything that is wrong, Abby's sharp diagnostic skills gets to the root of your issues, and I walked away every time feeling lighter, more balanced, focused and rejuvenated.  \\nIn addition to acupuncture, her herbal medicine skills are far superior than any I have experienced before. I loved using her herbal prescriptions throughout the week, while looking forward to the next acupuncture treatment, and felt like they were highly effective for things from anxiety/tension to headaches and insomnia.\\nIts too bad for me she decided to move south to Los Gatos, but I will definitely stop by any chance I get. Los Gatos is lucky to have her!\", 'date': '2012-05-04 03:47:09'}\n"
     ]
    }
   ],
   "source": [
    "def authenticate_user(admin_username, admin_password, start_date, end_date, min_stars, max_stars):\n",
    "    existing_admin = admin_collection.find_one({\"admin_username\": admin_username})\n",
    "\n",
    "    if existing_admin is None:\n",
    "        return None, \"Wrong username. Please enter the right username and password.\"\n",
    "\n",
    "    # Check if the password matches\n",
    "    if existing_admin['admin_password'] != admin_password:\n",
    "        return None, \"Wrong password. Please enter the right username and password.\"\n",
    "\n",
    "    business_id = existing_admin['business_id']\n",
    "\n",
    "    # Format start_date and end_date into strings matching the database format\n",
    "    formatted_start_date = start_date.strftime(\"%Y-%m-%d %H:%M:%S\")\n",
    "    formatted_end_date = end_date.strftime(\"%Y-%m-%d %H:%M:%S\")\n",
    "\n",
    "    # Retrieve reviews for the specified business_id within the time range and star range\n",
    "    reviews = review_collection.find({\n",
    "        \"business_id\": business_id,\n",
    "        \"date\": {\"$gte\": formatted_start_date, \"$lte\": formatted_end_date},\n",
    "        \"stars\": {\"$gte\": min_stars, \"$lte\": max_stars}\n",
    "    })\n",
    "    return list(reviews), None\n",
    "\n",
    "# Beispielaufruf:\n",
    "admin_username = input(\"Admin Username: \")\n",
    "admin_password = input(\"Admin Password: \")\n",
    "\n",
    "start_year = int(input(\"Start Year: \"))\n",
    "start_month = int(input(\"Start Month: \"))\n",
    "start_day = int(input(\"Start Day: \"))\n",
    "start_hour = int(input(\"Start Hour: \"))\n",
    "start_minute = int(input(\"Start Minute: \"))\n",
    "start_second = int(input(\"Start Second: \"))\n",
    "\n",
    "end_year = int(input(\"End Year: \"))\n",
    "end_month = int(input(\"End Month: \"))\n",
    "end_day = int(input(\"End Day: \"))\n",
    "end_hour = int(input(\"End Hour: \"))\n",
    "end_minute = int(input(\"End Minute: \"))\n",
    "end_second = int(input(\"End Second: \"))\n",
    "\n",
    "# Define the start and end dates for the time range (modify as needed)\n",
    "start_date = datetime(start_year, start_month, start_day, start_hour, start_minute, start_second)\n",
    "end_date = datetime(end_year, end_month, end_day, end_hour, end_minute, end_second)\n",
    "\n",
    "# Define the star rating range (modify as needed)\n",
    "min_stars = 3\n",
    "max_stars = 5\n",
    "\n",
    "results, error = authenticate_user(admin_username, admin_password, start_date, end_date, min_stars, max_stars)\n",
    "if error:\n",
    "    print(error)\n",
    "else:\n",
    "    for result in results:\n",
    "        print(result)"
   ]
  },
  {
   "cell_type": "markdown",
   "metadata": {},
   "source": [
    "# AUFGABE 2\n",
    "### INSERT ADMIN DATA"
   ]
  },
  {
   "cell_type": "code",
   "execution_count": 4,
   "metadata": {},
   "outputs": [
    {
     "name": "stdout",
     "output_type": "stream",
     "text": [
      "Business not found\n"
     ]
    }
   ],
   "source": [
    "def username_exist(username):\n",
    "    # Check if the username exists in the admin collection\n",
    "    existing_admin = admin_collection.find_one({\"admin_username\": username})\n",
    "    return existing_admin is not None\n",
    "\n",
    "def add_admin(business_name, business_address, business_city, admin_name, admin_username, \n",
    "              admin_email, admin_password, admin_password_confirm, threshold_percentage, last_n_reviews):\n",
    "    if username_exist(admin_username):\n",
    "        return \"Username already exists for another admin\"\n",
    "    \n",
    "    business = business_collection.find_one({\"name\": business_name, \"address\": business_address, \"city\": business_city})\n",
    "    if not business:\n",
    "        return \"Business not found\"\n",
    "    business_id = business['business_id']\n",
    "\n",
    "    existing_admin_with_business = admin_collection.find_one({\"business_id\": business_id})\n",
    "    if existing_admin_with_business:\n",
    "        return \"Business already exists for another admin\"\n",
    "\n",
    "    if admin_password != admin_password_confirm:\n",
    "        return \"Passwords do not match\"\n",
    "    \n",
    "    admin_id = str(uuid.uuid4())\n",
    "\n",
    "    # Construct the admin document\n",
    "    admin_doc = {\n",
    "        \"_id\": admin_id,\n",
    "        \"admin_id\": str(uuid.uuid4()),\n",
    "        \"admin_name\": admin_name,\n",
    "        \"business_id\": business_id,\n",
    "        \"admin_username\": admin_username,\n",
    "        \"admin_email\": admin_email,\n",
    "        \"admin_password\": admin_password,\n",
    "        \"threshold_percentage\": int(threshold_percentage),\n",
    "        \"last_n_reviews\": int(last_n_reviews)\n",
    "    }\n",
    "\n",
    "    # Insert the admin document into the admin collection\n",
    "    admin_collection.insert_one(admin_doc)\n",
    "    return \"Admin data added successfully\"\n",
    "\n",
    "# Example usage:\n",
    "result = add_admin(\n",
    "    business_name=input(\"Business Name: \"), \n",
    "    business_address=input(\"Business Address: \"),\n",
    "    business_city=input(\"Business City: \"),\n",
    "    admin_name=input(\"Admin Name: \"), \n",
    "    admin_username=input(\"Admin Username: \"), \n",
    "    admin_email=input(\"Email: \"), \n",
    "    admin_password=input(\"Password: \"), \n",
    "    admin_password_confirm=input(\"Confirm Password: \"), \n",
    "    threshold_percentage=input(\"Threshold percentage: \"), \n",
    "    last_n_reviews=input(\"Last N Reviews: \")\n",
    "    )\n",
    "print(result)"
   ]
  },
  {
   "cell_type": "markdown",
   "metadata": {},
   "source": [
    "### INSERT REVIEW DATA"
   ]
  },
  {
   "cell_type": "code",
   "execution_count": 5,
   "metadata": {},
   "outputs": [
    {
     "name": "stdout",
     "output_type": "stream",
     "text": [
      "Business not found\n"
     ]
    }
   ],
   "source": [
    "def add_review(user_name, business_name, business_address, \n",
    "               business_city, stars, useful, funny, cool, text, ):\n",
    "    # Generate new random IDs for review and user\n",
    "    review_id = str(uuid.uuid4())\n",
    "    user_id = str(uuid.uuid4())\n",
    "\n",
    "    # Get current date and time\n",
    "    current_date = datetime.now().strftime(\"%Y-%m-%d %H:%M:%S\")\n",
    "\n",
    "    # Find business_id based on business_name, business_address, and business_city\n",
    "    business = business_collection.find_one({\"name\": business_name, \"address\": business_address, \"city\": business_city})\n",
    "    if not business:\n",
    "        return \"Business not found\"\n",
    "    business_id = business['business_id']\n",
    "\n",
    "    # Find user_id based on user_name\n",
    "    user = user_collection.find_one({\"name\": user_name})\n",
    "    if not user:\n",
    "        return \"User not found\"\n",
    "    user_id = user['user_id']\n",
    "\n",
    "    stars = int(stars)\n",
    "    useful = int(useful)\n",
    "    funny = int(funny)\n",
    "    cool = int(cool)\n",
    "\n",
    "    # Construct the review document\n",
    "    review_doc = {\n",
    "        \"_id\": review_id,\n",
    "        \"review_id\": str(uuid.uuid4()),\n",
    "        \"user_id\": user_id,\n",
    "        \"business_id\": business_id,\n",
    "        \"stars\": stars,\n",
    "        \"useful\": useful,\n",
    "        \"funny\": funny,\n",
    "        \"cool\": cool,\n",
    "        \"text\": text,\n",
    "        \"date\": current_date\n",
    "    }\n",
    "\n",
    "    # Insert the review document into the review collection\n",
    "    review_collection.insert_one(review_doc)\n",
    "    return \"Review added successfully\"\n",
    "\n",
    "# Example usage:\n",
    "result = add_review(\n",
    "    user_name=input(\"User Name: \"),\n",
    "    business_name=input(\"Business Name: \"),\n",
    "    business_address=input(\"Business Address: \"),\n",
    "    business_city=input(\"Business City: \"),\n",
    "    stars=input(\"How many stars do you want to give? \"),\n",
    "    useful=input(\"How useful are they to you? \"),\n",
    "    funny=input(\"How funny are they? \"),\n",
    "    cool=input(\"How cool are they? \"),\n",
    "    text=input(\"Comment: \")\n",
    "    )\n",
    "print(result)"
   ]
  }
 ],
 "metadata": {
  "kernelspec": {
   "display_name": "Python 3",
   "language": "python",
   "name": "python3"
  },
  "language_info": {
   "codemirror_mode": {
    "name": "ipython",
    "version": 3
   },
   "file_extension": ".py",
   "mimetype": "text/x-python",
   "name": "python",
   "nbconvert_exporter": "python",
   "pygments_lexer": "ipython3",
   "version": "3.12.0"
  }
 },
 "nbformat": 4,
 "nbformat_minor": 2
}
