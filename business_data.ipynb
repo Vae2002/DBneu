{
 "cells": [
  {
   "cell_type": "markdown",
   "metadata": {},
   "source": [
    "## Daten aus mysql in mongodb importieren"
   ]
  },
  {
   "cell_type": "code",
   "execution_count": null,
   "metadata": {},
   "outputs": [],
   "source": [
    "# import pymongo\n",
    "# import mysql.connector\n",
    "# import schedule\n",
    "# import time\n",
    "\n",
    "# def load_data():\n",
    "#     # Verbindung zur MongoDB herstellen\n",
    "#     mongo_client = pymongo.MongoClient(\"mongodb://localhost:27017/\")\n",
    "#     mongo_db = mongo_client['deine_mongo_db']\n",
    "#     mongo_collection = mongo_db['deine_mongo_collection']\n",
    "\n",
    "#     # Verbindung zu MySQL herstellen\n",
    "#     mysql_connection = mysql.connector.connect(\n",
    "#         host=\"localhost\",\n",
    "#         user=\"dein_mysql_benutzer\",\n",
    "#         password=\"dein_mysql_passwort\",\n",
    "#         database=\"deine_mysql_db\"\n",
    "#     )\n",
    "#     mysql_cursor = mysql_connection.cursor()\n",
    "\n",
    "#     # MongoDB-Daten abrufen\n",
    "#     mongo_data = mongo_collection.find()\n",
    "\n",
    "#     # MySQL-Tabelle erstellen (falls noch nicht vorhanden)\n",
    "#     mysql_cursor.execute(\"CREATE TABLE IF NOT EXISTS deine_mysql_tabelle (col1 VARCHAR(255), col2 INT)\")\n",
    "\n",
    "#     # MongoDB-Daten in MySQL einfügen\n",
    "#     for document in mongo_data:\n",
    "#         col1_value = document.get(\"field1\", \"\")\n",
    "#         col2_value = document.get(\"field2\", 0)\n",
    "#         mysql_cursor.execute(\"INSERT INTO deine_mysql_tabelle (col1, col2) VALUES (%s, %s)\", (col1_value, col2_value))\n",
    "\n",
    "#     # Änderungen in der MySQL-Datenbank speichern\n",
    "#     mysql_connection.commit()\n",
    "\n",
    "#     # Verbindungen schließen\n",
    "#     mysql_cursor.close()\n",
    "#     mysql_connection.close()\n",
    "#     mongo_client.close()\n",
    "\n",
    "# # Zeitplan für alle 30 Minuten einrichten\n",
    "# schedule.every(30).minutes.do(load_data)\n",
    "\n",
    "# while True:\n",
    "#     schedule.run_pending()\n",
    "#     time.sleep(1)\n"
   ]
  },
  {
   "cell_type": "markdown",
   "metadata": {},
   "source": [
    "## Every business has a unique business_id and they could just see the reviews of their business"
   ]
  },
  {
   "cell_type": "code",
   "execution_count": 2,
   "metadata": {},
   "outputs": [
    {
     "name": "stdout",
     "output_type": "stream",
     "text": [
      "[{'_id': ObjectId('656cc6c15d1141c25dc99f63'), 'review_id': '419RpsM5N8Mr-QkpuPxi5Q', 'user_id': 'gIzS3s4yZm6WiXM3TcQMPQ', 'business_id': 'CF33F8-E6oudUQ46HnavjQ', 'stars': 4, 'useful': 0, 'funny': 0, 'cool': 0, 'text': 'I have always liked Sonic as it is good fresh food as far as fast food goes. Later in the evenings this location is a little slow.', 'date': '2012-12-18 08:45:44'}, {'_id': ObjectId('656cc6c45d1141c25dca9794'), 'review_id': '2mD-VlkQqErngk7xwjht1g', 'user_id': 'zF10BKjK4Lz9U_8Yqw28ww', 'business_id': 'CF33F8-E6oudUQ46HnavjQ', 'stars': 4, 'useful': 0, 'funny': 0, 'cool': 0, 'text': \"How could I not like Sonic?  They have a Peanut Butter Shake.  I've had a hard time finding those, so I always enjoy resisting the urge to actually get one.  My waistline clearly shows how often I am successful at this.\\n\\nYou really can't go wrong with Sonic!\", 'date': '2013-07-08 00:59:08'}, {'_id': ObjectId('656cc6c45d1141c25dcaa798'), 'review_id': 'g4tFQ557ubgN_So9uFiSaQ', 'user_id': 'J9GBF0l6mo7DmWMT9Lo8ng', 'business_id': 'CF33F8-E6oudUQ46HnavjQ', 'stars': 1, 'useful': 0, 'funny': 0, 'cool': 0, 'text': \"The thee sundaes I ordered arrived looking kind of skimpy. I mentioned it to the waitress and she said the machine wasn't working right. I made the mistake of not taking my receipt and drove back around the building to get it so I could let someone know about being shorted on the sundaes. She printed a second but with no phone numbers for comments and she couldn't find the manager. She then offered to make me another sundae, wouldn't it be the same if the machine wasn't working right. Father's Day sundaes we're not as nice as wanted them to be for dad. Annoyed\", 'date': '2018-06-18 00:18:04'}, {'_id': ObjectId('656cc6d35d1141c25dced8f4'), 'review_id': 'qhMMxTZkVq136oQuNtRQAQ', 'user_id': 'xeKMK6t7cj9c-uxIG0AGMw', 'business_id': 'CF33F8-E6oudUQ46HnavjQ', 'stars': 1, 'useful': 0, 'funny': 0, 'cool': 0, 'text': \"Terrible! No customer service what so ever. We sat and waited for an order to be placed. They never answered with the button pushed. We said something to one of the car hops and said that one wasn't working.  No sign placed on there. He didn't offer to take our order or any help what do ever.\", 'date': '2020-06-26 19:22:36'}, {'_id': ObjectId('656cc6d75d1141c25dcfca79'), 'review_id': 'ud3hWrqO8r4HX4W2Ngxm9A', 'user_id': 'Ot6NZYgwwZlMXmfh7ZUFsw', 'business_id': 'CF33F8-E6oudUQ46HnavjQ', 'stars': 2, 'useful': 0, 'funny': 0, 'cool': 0, 'text': \"Not really sure about this location. I use to come here as a kid and I just ordered a root beer... that's it.... took about 15 minutes for them to take my order... and 10 minutes to bring it out..... not sure how you get a cherry coke confused with root beer... but I'm so thirsty I'll drink it anyway... no telling how a food order would go, so I won't chance it. Ima go next door to the gas station to get a root beer now.\", 'date': '2020-06-27 23:31:58'}, {'_id': ObjectId('656cc6db5d1141c25dd0a54a'), 'review_id': 'h9Z8_ak3XZBXQ1X5-jZP5w', 'user_id': 'DVtUb-47insim_WtmNT8uA', 'business_id': 'CF33F8-E6oudUQ46HnavjQ', 'stars': 1, 'useful': 0, 'funny': 0, 'cool': 0, 'text': \"If you guys close at 11 on a weekend.  Maybe you should change the hours on here to the correct ones.  Got there at 11:30pm and she tells me there no longer taking orders. But then turns around and takes another cars order.  Will be calling a manager in the morning Bc they didn't answer my call tonight.\", 'date': '2021-03-06 07:18:00'}, {'_id': '821d05f2-ba2c-4c84-b36a-1e3bb47cff90', 'review_id': '272859c5-77a7-41ef-b38d-8f1f1ad13504', 'user_id': 'q_QQ5kBBwlCcbL1s4NVK3g', 'business_id': 'CF33F8-E6oudUQ46HnavjQ', 'stars': 4, 'useful': 5, 'funny': 5, 'cool': 5, 'text': 'very cool', 'date': '2023-12-05 10:39:22'}, {'_id': '81d8c663-314f-4d42-a7c1-649960f810a6', 'review_id': '09f3a351-0cc9-4b33-aabc-6fc48913e6dc', 'user_id': 'q_QQ5kBBwlCcbL1s4NVK3g', 'business_id': 'CF33F8-E6oudUQ46HnavjQ', 'stars': 1, 'useful': 1, 'funny': 1, 'cool': 1, 'text': 'bad', 'date': '2023-12-05 11:21:35'}]\n"
     ]
    }
   ],
   "source": [
    "# connect the business_name and business address with the business_id to fetch the review from the dusiness_id\n",
    "import pymongo\n",
    "from bson.objectid import ObjectId\n",
    "\n",
    "# Establish connection to MongoDB\n",
    "client = pymongo.MongoClient(\"mongodb://localhost:27017/\")\n",
    "# Access the database\n",
    "db = client['yelp']\n",
    "\n",
    "# Access the collections\n",
    "review_collection = db['review']\n",
    "business_collection = db['business']\n",
    "admin_collection = db['admin']\n",
    "\n",
    "\n",
    "def authenticate_user(admin_username, admin_password, business_name, business_address):\n",
    "    # Find the admin based on username and password\n",
    "    admin = admin_collection.find_one({\"admin_username\": admin_username, \"admin_password\": admin_password})\n",
    "    if not admin:\n",
    "        return \"Authentication failed. Invalid username or password.\"\n",
    "\n",
    "    # Find or create a unique business_id based on business_name and business_address\n",
    "    business = business_collection.find_one({\"name\": business_name, \"address\": business_address})\n",
    "    if not business:\n",
    "        business_id = str(ObjectId())\n",
    "        business_collection.insert_one({\n",
    "            \"business_id\": business_id,\n",
    "            \"name\": business_name,\n",
    "            \"address\": business_address\n",
    "        })\n",
    "    else:\n",
    "        business_id = business['business_id']\n",
    "\n",
    "    # Check if the authenticated admin is associated with the specified business\n",
    "    if admin['business_id'] == business_id:\n",
    "        # Retrieve reviews for the specified business_id\n",
    "        reviews = review_collection.find({\"business_id\": business_id})\n",
    "        return list(reviews)\n",
    "    else:\n",
    "        return \"Authentication failed. Admin does not have access to the specified business.\"\n",
    "\n",
    "# Beispielaufruf:\n",
    "admin_username = input(\"Admin Username: \")\n",
    "admin_password = input(\"Admin Password: \")\n",
    "business_name = input(\"Business Name: \")\n",
    "business_address = input(\"Business Address: \")\n",
    "\n",
    "result = authenticate_user(admin_username, admin_password, business_name, business_address)\n",
    "print(result)"
   ]
  },
  {
   "cell_type": "markdown",
   "metadata": {},
   "source": [
    "## Query abfragung mit mysql"
   ]
  },
  {
   "cell_type": "code",
   "execution_count": 4,
   "metadata": {},
   "outputs": [
    {
     "name": "stderr",
     "output_type": "stream",
     "text": [
      "C:\\Users\\Tristan\\AppData\\Local\\Packages\\PythonSoftwareFoundation.Python.3.10_qbz5n2kfra8p0\\LocalCache\\local-packages\\Python310\\site-packages\\mysql\\connector\\abstracts.py:130: SyntaxWarning: \"is\" with a literal. Did you mean \"==\"?\n",
      "  if group is 'connector_python':\n",
      "C:\\Users\\Tristan\\AppData\\Local\\Packages\\PythonSoftwareFoundation.Python.3.10_qbz5n2kfra8p0\\LocalCache\\local-packages\\Python310\\site-packages\\mysql\\connector\\abstracts.py:130: SyntaxWarning: \"is\" with a literal. Did you mean \"==\"?\n",
      "  if group is 'connector_python':\n"
     ]
    },
    {
     "ename": "InterfaceError",
     "evalue": "2003: Can't connect to MySQL server on 'localhost:3306' (10061 No connection could be made because the target machine actively refused it)",
     "output_type": "error",
     "traceback": [
      "\u001b[1;31m---------------------------------------------------------------------------\u001b[0m",
      "\u001b[1;31mConnectionRefusedError\u001b[0m                    Traceback (most recent call last)",
      "File \u001b[1;32m~\\AppData\\Local\\Packages\\PythonSoftwareFoundation.Python.3.10_qbz5n2kfra8p0\\LocalCache\\local-packages\\Python310\\site-packages\\mysql\\connector\\network.py:509\u001b[0m, in \u001b[0;36mMySQLTCPSocket.open_connection\u001b[1;34m(self)\u001b[0m\n\u001b[0;32m    508\u001b[0m     \u001b[39mself\u001b[39m\u001b[39m.\u001b[39msock\u001b[39m.\u001b[39msettimeout(\u001b[39mself\u001b[39m\u001b[39m.\u001b[39m_connection_timeout)\n\u001b[1;32m--> 509\u001b[0m     \u001b[39mself\u001b[39;49m\u001b[39m.\u001b[39;49msock\u001b[39m.\u001b[39;49mconnect(sockaddr)\n\u001b[0;32m    510\u001b[0m \u001b[39mexcept\u001b[39;00m \u001b[39mIOError\u001b[39;00m \u001b[39mas\u001b[39;00m err:\n",
      "\u001b[1;31mConnectionRefusedError\u001b[0m: [WinError 10061] No connection could be made because the target machine actively refused it",
      "\nDuring handling of the above exception, another exception occurred:\n",
      "\u001b[1;31mInterfaceError\u001b[0m                            Traceback (most recent call last)",
      "\u001b[1;32mc:\\Users\\Tristan\\OneDrive\\Documents\\DHBW\\DBprüfung\\code\\DatenbankPruefung\\DBneu\\business_data.ipynb Cell 6\u001b[0m line \u001b[0;36m4\n\u001b[0;32m      <a href='vscode-notebook-cell:/c%3A/Users/Tristan/OneDrive/Documents/DHBW/DBpr%C3%BCfung/code/DatenbankPruefung/DBneu/business_data.ipynb#W5sZmlsZQ%3D%3D?line=0'>1</a>\u001b[0m \u001b[39mimport\u001b[39;00m \u001b[39mmysql\u001b[39;00m\u001b[39m.\u001b[39;00m\u001b[39mconnector\u001b[39;00m\n\u001b[0;32m      <a href='vscode-notebook-cell:/c%3A/Users/Tristan/OneDrive/Documents/DHBW/DBpr%C3%BCfung/code/DatenbankPruefung/DBneu/business_data.ipynb#W5sZmlsZQ%3D%3D?line=2'>3</a>\u001b[0m \u001b[39m# Verbindung zur MySQL-Datenbank herstellen\u001b[39;00m\n\u001b[1;32m----> <a href='vscode-notebook-cell:/c%3A/Users/Tristan/OneDrive/Documents/DHBW/DBpr%C3%BCfung/code/DatenbankPruefung/DBneu/business_data.ipynb#W5sZmlsZQ%3D%3D?line=3'>4</a>\u001b[0m db \u001b[39m=\u001b[39m mysql\u001b[39m.\u001b[39;49mconnector\u001b[39m.\u001b[39;49mconnect(\n\u001b[0;32m      <a href='vscode-notebook-cell:/c%3A/Users/Tristan/OneDrive/Documents/DHBW/DBpr%C3%BCfung/code/DatenbankPruefung/DBneu/business_data.ipynb#W5sZmlsZQ%3D%3D?line=4'>5</a>\u001b[0m     host\u001b[39m=\u001b[39;49m\u001b[39m\"\u001b[39;49m\u001b[39mlocalhost\u001b[39;49m\u001b[39m\"\u001b[39;49m,\n\u001b[0;32m      <a href='vscode-notebook-cell:/c%3A/Users/Tristan/OneDrive/Documents/DHBW/DBpr%C3%BCfung/code/DatenbankPruefung/DBneu/business_data.ipynb#W5sZmlsZQ%3D%3D?line=5'>6</a>\u001b[0m     user\u001b[39m=\u001b[39;49m\u001b[39m\"\u001b[39;49m\u001b[39mdein_benutzername\u001b[39;49m\u001b[39m\"\u001b[39;49m,\n\u001b[0;32m      <a href='vscode-notebook-cell:/c%3A/Users/Tristan/OneDrive/Documents/DHBW/DBpr%C3%BCfung/code/DatenbankPruefung/DBneu/business_data.ipynb#W5sZmlsZQ%3D%3D?line=6'>7</a>\u001b[0m     password\u001b[39m=\u001b[39;49m\u001b[39m\"\u001b[39;49m\u001b[39mdein_passwort\u001b[39;49m\u001b[39m\"\u001b[39;49m,\n\u001b[0;32m      <a href='vscode-notebook-cell:/c%3A/Users/Tristan/OneDrive/Documents/DHBW/DBpr%C3%BCfung/code/DatenbankPruefung/DBneu/business_data.ipynb#W5sZmlsZQ%3D%3D?line=7'>8</a>\u001b[0m     database\u001b[39m=\u001b[39;49m\u001b[39m\"\u001b[39;49m\u001b[39mdeine_datenbank\u001b[39;49m\u001b[39m\"\u001b[39;49m\n\u001b[0;32m      <a href='vscode-notebook-cell:/c%3A/Users/Tristan/OneDrive/Documents/DHBW/DBpr%C3%BCfung/code/DatenbankPruefung/DBneu/business_data.ipynb#W5sZmlsZQ%3D%3D?line=8'>9</a>\u001b[0m )\n\u001b[0;32m     <a href='vscode-notebook-cell:/c%3A/Users/Tristan/OneDrive/Documents/DHBW/DBpr%C3%BCfung/code/DatenbankPruefung/DBneu/business_data.ipynb#W5sZmlsZQ%3D%3D?line=10'>11</a>\u001b[0m \u001b[39m# Beispielabfrage: Alle Bewertungen für ein bestimmtes Unternehmen in einem bestimmten Zeitraum\u001b[39;00m\n\u001b[0;32m     <a href='vscode-notebook-cell:/c%3A/Users/Tristan/OneDrive/Documents/DHBW/DBpr%C3%BCfung/code/DatenbankPruefung/DBneu/business_data.ipynb#W5sZmlsZQ%3D%3D?line=11'>12</a>\u001b[0m business_name \u001b[39m=\u001b[39m \u001b[39m\"\u001b[39m\u001b[39mAbby Rappoport, LAC, CMQ\u001b[39m\u001b[39m\"\u001b[39m\n",
      "File \u001b[1;32m~\\AppData\\Local\\Packages\\PythonSoftwareFoundation.Python.3.10_qbz5n2kfra8p0\\LocalCache\\local-packages\\Python310\\site-packages\\mysql\\connector\\__init__.py:179\u001b[0m, in \u001b[0;36mconnect\u001b[1;34m(*args, **kwargs)\u001b[0m\n\u001b[0;32m    177\u001b[0m     \u001b[39mreturn\u001b[39;00m CMySQLConnection(\u001b[39m*\u001b[39margs, \u001b[39m*\u001b[39m\u001b[39m*\u001b[39mkwargs)\n\u001b[0;32m    178\u001b[0m \u001b[39melse\u001b[39;00m:\n\u001b[1;32m--> 179\u001b[0m     \u001b[39mreturn\u001b[39;00m MySQLConnection(\u001b[39m*\u001b[39margs, \u001b[39m*\u001b[39m\u001b[39m*\u001b[39mkwargs)\n",
      "File \u001b[1;32m~\\AppData\\Local\\Packages\\PythonSoftwareFoundation.Python.3.10_qbz5n2kfra8p0\\LocalCache\\local-packages\\Python310\\site-packages\\mysql\\connector\\connection.py:95\u001b[0m, in \u001b[0;36mMySQLConnection.__init__\u001b[1;34m(self, *args, **kwargs)\u001b[0m\n\u001b[0;32m     92\u001b[0m \u001b[39mself\u001b[39m\u001b[39m.\u001b[39m_pool_config_version \u001b[39m=\u001b[39m \u001b[39mNone\u001b[39;00m\n\u001b[0;32m     94\u001b[0m \u001b[39mif\u001b[39;00m \u001b[39mlen\u001b[39m(kwargs) \u001b[39m>\u001b[39m \u001b[39m0\u001b[39m:\n\u001b[1;32m---> 95\u001b[0m     \u001b[39mself\u001b[39m\u001b[39m.\u001b[39mconnect(\u001b[39m*\u001b[39m\u001b[39m*\u001b[39mkwargs)\n",
      "File \u001b[1;32m~\\AppData\\Local\\Packages\\PythonSoftwareFoundation.Python.3.10_qbz5n2kfra8p0\\LocalCache\\local-packages\\Python310\\site-packages\\mysql\\connector\\abstracts.py:716\u001b[0m, in \u001b[0;36mMySQLConnectionAbstract.connect\u001b[1;34m(self, **kwargs)\u001b[0m\n\u001b[0;32m    713\u001b[0m     \u001b[39mself\u001b[39m\u001b[39m.\u001b[39mconfig(\u001b[39m*\u001b[39m\u001b[39m*\u001b[39mkwargs)\n\u001b[0;32m    715\u001b[0m \u001b[39mself\u001b[39m\u001b[39m.\u001b[39mdisconnect()\n\u001b[1;32m--> 716\u001b[0m \u001b[39mself\u001b[39;49m\u001b[39m.\u001b[39;49m_open_connection()\n\u001b[0;32m    717\u001b[0m \u001b[39mself\u001b[39m\u001b[39m.\u001b[39m_post_connection()\n",
      "File \u001b[1;32m~\\AppData\\Local\\Packages\\PythonSoftwareFoundation.Python.3.10_qbz5n2kfra8p0\\LocalCache\\local-packages\\Python310\\site-packages\\mysql\\connector\\connection.py:206\u001b[0m, in \u001b[0;36mMySQLConnection._open_connection\u001b[1;34m(self)\u001b[0m\n\u001b[0;32m    204\u001b[0m \u001b[39mself\u001b[39m\u001b[39m.\u001b[39m_protocol \u001b[39m=\u001b[39m MySQLProtocol()\n\u001b[0;32m    205\u001b[0m \u001b[39mself\u001b[39m\u001b[39m.\u001b[39m_socket \u001b[39m=\u001b[39m \u001b[39mself\u001b[39m\u001b[39m.\u001b[39m_get_connection()\n\u001b[1;32m--> 206\u001b[0m \u001b[39mself\u001b[39;49m\u001b[39m.\u001b[39;49m_socket\u001b[39m.\u001b[39;49mopen_connection()\n\u001b[0;32m    207\u001b[0m \u001b[39mself\u001b[39m\u001b[39m.\u001b[39m_do_handshake()\n\u001b[0;32m    208\u001b[0m \u001b[39mself\u001b[39m\u001b[39m.\u001b[39m_do_auth(\u001b[39mself\u001b[39m\u001b[39m.\u001b[39m_user, \u001b[39mself\u001b[39m\u001b[39m.\u001b[39m_password,\n\u001b[0;32m    209\u001b[0m               \u001b[39mself\u001b[39m\u001b[39m.\u001b[39m_database, \u001b[39mself\u001b[39m\u001b[39m.\u001b[39m_client_flags, \u001b[39mself\u001b[39m\u001b[39m.\u001b[39m_charset_id,\n\u001b[0;32m    210\u001b[0m               \u001b[39mself\u001b[39m\u001b[39m.\u001b[39m_ssl)\n",
      "File \u001b[1;32m~\\AppData\\Local\\Packages\\PythonSoftwareFoundation.Python.3.10_qbz5n2kfra8p0\\LocalCache\\local-packages\\Python310\\site-packages\\mysql\\connector\\network.py:511\u001b[0m, in \u001b[0;36mMySQLTCPSocket.open_connection\u001b[1;34m(self)\u001b[0m\n\u001b[0;32m    509\u001b[0m     \u001b[39mself\u001b[39m\u001b[39m.\u001b[39msock\u001b[39m.\u001b[39mconnect(sockaddr)\n\u001b[0;32m    510\u001b[0m \u001b[39mexcept\u001b[39;00m \u001b[39mIOError\u001b[39;00m \u001b[39mas\u001b[39;00m err:\n\u001b[1;32m--> 511\u001b[0m     \u001b[39mraise\u001b[39;00m errors\u001b[39m.\u001b[39mInterfaceError(\n\u001b[0;32m    512\u001b[0m         errno\u001b[39m=\u001b[39m\u001b[39m2003\u001b[39m, values\u001b[39m=\u001b[39m(\u001b[39mself\u001b[39m\u001b[39m.\u001b[39mget_address(), _strioerror(err)))\n\u001b[0;32m    513\u001b[0m \u001b[39mexcept\u001b[39;00m \u001b[39mException\u001b[39;00m \u001b[39mas\u001b[39;00m err:\n\u001b[0;32m    514\u001b[0m     \u001b[39mraise\u001b[39;00m errors\u001b[39m.\u001b[39mOperationalError(\u001b[39mstr\u001b[39m(err))\n",
      "\u001b[1;31mInterfaceError\u001b[0m: 2003: Can't connect to MySQL server on 'localhost:3306' (10061 No connection could be made because the target machine actively refused it)"
     ]
    }
   ],
   "source": [
    "import mysql.connector\n",
    "\n",
    "# Verbindung zur MySQL-Datenbank herstellen\n",
    "db = mysql.connector.connect(\n",
    "    host=\"localhost\",\n",
    "    user=\"dein_benutzername\",\n",
    "    password=\"dein_passwort\",\n",
    "    database=\"deine_datenbank\"\n",
    ")\n",
    "\n",
    "# Beispielabfrage: Alle Bewertungen für ein bestimmtes Unternehmen in einem bestimmten Zeitraum\n",
    "business_name = \"Abby Rappoport, LAC, CMQ\"\n",
    "start_date = \"2023-01-01\"\n",
    "end_date = \"2023-12-31\"\n",
    "\n",
    "cursor = db.cursor()\n",
    "query = f\"SELECT * FROM review WHERE business_name = '{business_name}' AND date BETWEEN '{start_date}' AND '{end_date}'\"\n",
    "cursor.execute(query)\n",
    "\n",
    "# Ergebnisse anzeigen\n",
    "for review in cursor.fetchall():\n",
    "    print(review)\n"
   ]
  },
  {
   "cell_type": "markdown",
   "metadata": {},
   "source": [
    "## Query abfragung mit MongoDB"
   ]
  },
  {
   "cell_type": "code",
   "execution_count": 3,
   "metadata": {},
   "outputs": [
    {
     "name": "stdout",
     "output_type": "stream",
     "text": [
      "Query results (with filters):\n",
      "[]\n"
     ]
    }
   ],
   "source": [
    "import pymongo\n",
    "from datetime import datetime\n",
    "\n",
    "# Establish connection to MongoDB\n",
    "client = pymongo.MongoClient(\"mongodb://localhost:27017/\")\n",
    "# Access the database\n",
    "db = client['yelp']\n",
    "\n",
    "# Access the collection\n",
    "review_collection = db['review']\n",
    "\n",
    "# Query parameters\n",
    "business_id = \"CF33F8-E6oudUQ46HnavjQ\"\n",
    "start_date = datetime(2023, 1, 1, 0, 0, 0)\n",
    "end_date = datetime(2023, 12, 31, 23, 59, 59)\n",
    "\n",
    "# Actual query with specified filters\n",
    "reviews = review_collection.find({\n",
    "    \"business_id\": business_id,\n",
    "    \"date\": {\"$gte\": start_date, \"$lte\": end_date}\n",
    "})\n",
    "\n",
    "# Print query results\n",
    "print(\"Query results (with filters):\")\n",
    "print(list(reviews))\n",
    "blah"
   ]
  }
 ],
 "metadata": {
  "kernelspec": {
   "display_name": "Python 3",
   "language": "python",
   "name": "python3"
  },
  "language_info": {
   "codemirror_mode": {
    "name": "ipython",
    "version": 3
   },
   "file_extension": ".py",
   "mimetype": "text/x-python",
   "name": "python",
   "nbconvert_exporter": "python",
   "pygments_lexer": "ipython3",
   "version": "3.10.11"
  }
 },
 "nbformat": 4,
 "nbformat_minor": 2
}
