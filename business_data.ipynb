{
 "cells": [
  {
   "cell_type": "markdown",
   "metadata": {},
   "source": [
    "## Daten aus mysql in mongodb importieren"
   ]
  },
  {
   "cell_type": "code",
   "execution_count": null,
   "metadata": {},
   "outputs": [],
   "source": [
    "# import pymongo\n",
    "# import mysql.connector\n",
    "# import schedule\n",
    "# import time\n",
    "\n",
    "# def load_data():\n",
    "#     # Verbindung zur MongoDB herstellen\n",
    "#     mongo_client = pymongo.MongoClient(\"mongodb://localhost:27017/\")\n",
    "#     mongo_db = mongo_client['deine_mongo_db']\n",
    "#     mongo_collection = mongo_db['deine_mongo_collection']\n",
    "\n",
    "#     # Verbindung zu MySQL herstellen\n",
    "#     mysql_connection = mysql.connector.connect(\n",
    "#         host=\"localhost\",\n",
    "#         user=\"dein_mysql_benutzer\",\n",
    "#         password=\"dein_mysql_passwort\",\n",
    "#         database=\"deine_mysql_db\"\n",
    "#     )\n",
    "#     mysql_cursor = mysql_connection.cursor()\n",
    "\n",
    "#     # MongoDB-Daten abrufen\n",
    "#     mongo_data = mongo_collection.find()\n",
    "\n",
    "#     # MySQL-Tabelle erstellen (falls noch nicht vorhanden)\n",
    "#     mysql_cursor.execute(\"CREATE TABLE IF NOT EXISTS deine_mysql_tabelle (col1 VARCHAR(255), col2 INT)\")\n",
    "\n",
    "#     # MongoDB-Daten in MySQL einfügen\n",
    "#     for document in mongo_data:\n",
    "#         col1_value = document.get(\"field1\", \"\")\n",
    "#         col2_value = document.get(\"field2\", 0)\n",
    "#         mysql_cursor.execute(\"INSERT INTO deine_mysql_tabelle (col1, col2) VALUES (%s, %s)\", (col1_value, col2_value))\n",
    "\n",
    "#     # Änderungen in der MySQL-Datenbank speichern\n",
    "#     mysql_connection.commit()\n",
    "\n",
    "#     # Verbindungen schließen\n",
    "#     mysql_cursor.close()\n",
    "#     mysql_connection.close()\n",
    "#     mongo_client.close()\n",
    "\n",
    "# # Zeitplan für alle 30 Minuten einrichten\n",
    "# schedule.every(30).minutes.do(load_data)\n",
    "\n",
    "# while True:\n",
    "#     schedule.run_pending()\n",
    "#     time.sleep(1)\n"
   ]
  },
  {
   "cell_type": "markdown",
   "metadata": {},
   "source": [
    "## Every business has a unique business_id and they could just see the reviews of their business"
   ]
  },
  {
   "cell_type": "code",
   "execution_count": null,
   "metadata": {},
   "outputs": [],
   "source": [
    "# connect the business_name and business address with the business_id to fetch the review from the dusiness_id\n",
    "import pymongo\n",
    "from bson.objectid import ObjectId\n",
    "\n",
    "# Establish connection to MongoDB\n",
    "client = pymongo.MongoClient(\"mongodb://localhost:27017/\")\n",
    "\n",
    "# Access the collections\n",
    "admin_collection = client['your_database']['admin']  # Replace 'your_database' with your actual database name\n",
    "business_collection = client['your_database']['business']\n",
    "review_collection = client['your_database']['review']\n",
    "\n",
    "def authenticate_user(admin_username, admin_password, business_name, business_address):\n",
    "    # Find the admin based on username and password\n",
    "    admin = admin_collection.find_one({\"admin_username\": admin_username, \"admin_password\": admin_password})\n",
    "    if not admin:\n",
    "        return \"Authentication failed. Invalid username or password.\"\n",
    "\n",
    "    # Find or create a unique business_id based on business_name and business_address\n",
    "    business = business_collection.find_one({\"name\": business_name, \"address\": business_address})\n",
    "    if not business:\n",
    "        business_id = str(ObjectId())\n",
    "        business_collection.insert_one({\n",
    "            \"business_id\": business_id,\n",
    "            \"name\": business_name,\n",
    "            \"address\": business_address\n",
    "        })\n",
    "    else:\n",
    "        business_id = business['business_id']\n",
    "\n",
    "    # Check if the authenticated admin is associated with the specified business\n",
    "    if admin['business_id'] == business_id:\n",
    "        # Retrieve reviews for the specified business_id\n",
    "        reviews = review_collection.find({\"business_id\": business_id})\n",
    "        return list(reviews)\n",
    "    else:\n",
    "        return \"Authentication failed. Admin does not have access to the specified business.\"\n",
    "\n",
    "# Beispielaufruf:\n",
    "admin_username = input(\"Admin Username: \")\n",
    "admin_password = input(\"Admin Password: \")\n",
    "business_name = input(\"Business Name: \")\n",
    "business_address = input(\"Business Address: \")\n",
    "\n",
    "result = authenticate_user(admin_username, admin_password, business_name, business_address)\n",
    "print(result)"
   ]
  },
  {
   "cell_type": "markdown",
   "metadata": {},
   "source": [
    "## Query abfragung mit mysql"
   ]
  },
  {
   "cell_type": "code",
   "execution_count": null,
   "metadata": {},
   "outputs": [],
   "source": [
    "import mysql.connector\n",
    "\n",
    "# Verbindung zur MySQL-Datenbank herstellen\n",
    "db = mysql.connector.connect(\n",
    "    host=\"localhost\",\n",
    "    user=\"dein_benutzername\",\n",
    "    password=\"dein_passwort\",\n",
    "    database=\"deine_datenbank\"\n",
    ")\n",
    "\n",
    "# Beispielabfrage: Alle Bewertungen für ein bestimmtes Unternehmen in einem bestimmten Zeitraum\n",
    "business_name = \"Abby Rappoport, LAC, CMQ\"\n",
    "start_date = \"2023-01-01\"\n",
    "end_date = \"2023-12-31\"\n",
    "\n",
    "cursor = db.cursor()\n",
    "query = f\"SELECT * FROM review WHERE business_name = '{business_name}' AND date BETWEEN '{start_date}' AND '{end_date}'\"\n",
    "cursor.execute(query)\n",
    "\n",
    "# Ergebnisse anzeigen\n",
    "for review in cursor.fetchall():\n",
    "    print(review)\n"
   ]
  },
  {
   "cell_type": "markdown",
   "metadata": {},
   "source": [
    "## Query abfragung mit MongoDB"
   ]
  },
  {
   "cell_type": "code",
   "execution_count": null,
   "metadata": {},
   "outputs": [],
   "source": [
    "import pymongo\n",
    "from datetime import datetime\n",
    "\n",
    "# Verbindung zur MongoDB herstellen\n",
    "client = pymongo.MongoClient(\"mongodb://localhost:27017/\")\n",
    "db = client['deine_datenbank']\n",
    "\n",
    "# Beispielabfrage: Alle Bewertungen für ein bestimmtes Unternehmen in einem bestimmten Zeitraum\n",
    "business_name = \"Abby Rappoport, LAC, CMQ\"\n",
    "start_date = datetime(2023, 1, 1)\n",
    "end_date = datetime(2023, 12, 31)\n",
    "\n",
    "reviews = db['review'].find({\n",
    "    \"business_name\": business_name,\n",
    "    \"date\": {\"$gte\": start_date, \"$lte\": end_date}\n",
    "})\n",
    "\n",
    "# Ergebnisse anzeigen\n",
    "for review in reviews:\n",
    "    print(review)\n"
   ]
  }
 ],
 "metadata": {
  "kernelspec": {
   "display_name": "Python 3",
   "language": "python",
   "name": "python3"
  },
  "language_info": {
   "codemirror_mode": {
    "name": "ipython",
    "version": 3
   },
   "file_extension": ".py",
   "mimetype": "text/x-python",
   "name": "python",
   "nbconvert_exporter": "python",
   "pygments_lexer": "ipython3",
   "version": "3.11.6"
  }
 },
 "nbformat": 4,
 "nbformat_minor": 2
}
